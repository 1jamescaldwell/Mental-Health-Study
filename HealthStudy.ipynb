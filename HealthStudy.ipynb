{
 "cells": [
  {
   "cell_type": "markdown",
   "id": "6d1f38b3-3562-4341-91c3-4ae2d8a4703d",
   "metadata": {},
   "source": [
    "Objective:\n",
    "Build a machine learning model that evaluates a person's demographic and works status to predict a need for extra mental health care.\n",
    "\n"
   ]
  },
  {
   "cell_type": "markdown",
   "id": "0597426a-5f9e-40ca-b920-91e94e62cf64",
   "metadata": {},
   "source": [
    "\n"
   ]
  },
  {
   "cell_type": "code",
   "execution_count": 180,
   "id": "ea225272-bd84-4d55-83b8-a1ca67517886",
   "metadata": {},
   "outputs": [
    {
     "data": {
      "text/html": [
       "<div>\n",
       "<style scoped>\n",
       "    .dataframe tbody tr th:only-of-type {\n",
       "        vertical-align: middle;\n",
       "    }\n",
       "\n",
       "    .dataframe tbody tr th {\n",
       "        vertical-align: top;\n",
       "    }\n",
       "\n",
       "    .dataframe thead th {\n",
       "        text-align: right;\n",
       "    }\n",
       "</style>\n",
       "<table border=\"1\" class=\"dataframe\">\n",
       "  <thead>\n",
       "    <tr style=\"text-align: right;\">\n",
       "      <th></th>\n",
       "      <th>Timestamp</th>\n",
       "      <th>Age</th>\n",
       "      <th>Gender</th>\n",
       "      <th>Country</th>\n",
       "      <th>state</th>\n",
       "      <th>self_employed</th>\n",
       "      <th>family_history</th>\n",
       "      <th>treatment</th>\n",
       "      <th>work_interfere</th>\n",
       "      <th>no_employees</th>\n",
       "      <th>...</th>\n",
       "      <th>leave</th>\n",
       "      <th>mental_health_consequence</th>\n",
       "      <th>phys_health_consequence</th>\n",
       "      <th>coworkers</th>\n",
       "      <th>supervisor</th>\n",
       "      <th>mental_health_interview</th>\n",
       "      <th>phys_health_interview</th>\n",
       "      <th>mental_vs_physical</th>\n",
       "      <th>obs_consequence</th>\n",
       "      <th>comments</th>\n",
       "    </tr>\n",
       "  </thead>\n",
       "  <tbody>\n",
       "    <tr>\n",
       "      <th>0</th>\n",
       "      <td>2014-08-27 11:29:31</td>\n",
       "      <td>37</td>\n",
       "      <td>Female</td>\n",
       "      <td>United States</td>\n",
       "      <td>IL</td>\n",
       "      <td>NaN</td>\n",
       "      <td>No</td>\n",
       "      <td>Yes</td>\n",
       "      <td>Often</td>\n",
       "      <td>6-25</td>\n",
       "      <td>...</td>\n",
       "      <td>Somewhat easy</td>\n",
       "      <td>No</td>\n",
       "      <td>No</td>\n",
       "      <td>Some of them</td>\n",
       "      <td>Yes</td>\n",
       "      <td>No</td>\n",
       "      <td>Maybe</td>\n",
       "      <td>Yes</td>\n",
       "      <td>No</td>\n",
       "      <td>NaN</td>\n",
       "    </tr>\n",
       "    <tr>\n",
       "      <th>1</th>\n",
       "      <td>2014-08-27 11:29:37</td>\n",
       "      <td>44</td>\n",
       "      <td>M</td>\n",
       "      <td>United States</td>\n",
       "      <td>IN</td>\n",
       "      <td>NaN</td>\n",
       "      <td>No</td>\n",
       "      <td>No</td>\n",
       "      <td>Rarely</td>\n",
       "      <td>More than 1000</td>\n",
       "      <td>...</td>\n",
       "      <td>Don't know</td>\n",
       "      <td>Maybe</td>\n",
       "      <td>No</td>\n",
       "      <td>No</td>\n",
       "      <td>No</td>\n",
       "      <td>No</td>\n",
       "      <td>No</td>\n",
       "      <td>Don't know</td>\n",
       "      <td>No</td>\n",
       "      <td>NaN</td>\n",
       "    </tr>\n",
       "    <tr>\n",
       "      <th>2</th>\n",
       "      <td>2014-08-27 11:29:44</td>\n",
       "      <td>32</td>\n",
       "      <td>Male</td>\n",
       "      <td>Canada</td>\n",
       "      <td>NaN</td>\n",
       "      <td>NaN</td>\n",
       "      <td>No</td>\n",
       "      <td>No</td>\n",
       "      <td>Rarely</td>\n",
       "      <td>6-25</td>\n",
       "      <td>...</td>\n",
       "      <td>Somewhat difficult</td>\n",
       "      <td>No</td>\n",
       "      <td>No</td>\n",
       "      <td>Yes</td>\n",
       "      <td>Yes</td>\n",
       "      <td>Yes</td>\n",
       "      <td>Yes</td>\n",
       "      <td>No</td>\n",
       "      <td>No</td>\n",
       "      <td>NaN</td>\n",
       "    </tr>\n",
       "    <tr>\n",
       "      <th>3</th>\n",
       "      <td>2014-08-27 11:29:46</td>\n",
       "      <td>31</td>\n",
       "      <td>Male</td>\n",
       "      <td>United Kingdom</td>\n",
       "      <td>NaN</td>\n",
       "      <td>NaN</td>\n",
       "      <td>Yes</td>\n",
       "      <td>Yes</td>\n",
       "      <td>Often</td>\n",
       "      <td>26-100</td>\n",
       "      <td>...</td>\n",
       "      <td>Somewhat difficult</td>\n",
       "      <td>Yes</td>\n",
       "      <td>Yes</td>\n",
       "      <td>Some of them</td>\n",
       "      <td>No</td>\n",
       "      <td>Maybe</td>\n",
       "      <td>Maybe</td>\n",
       "      <td>No</td>\n",
       "      <td>Yes</td>\n",
       "      <td>NaN</td>\n",
       "    </tr>\n",
       "    <tr>\n",
       "      <th>4</th>\n",
       "      <td>2014-08-27 11:30:22</td>\n",
       "      <td>31</td>\n",
       "      <td>Male</td>\n",
       "      <td>United States</td>\n",
       "      <td>TX</td>\n",
       "      <td>NaN</td>\n",
       "      <td>No</td>\n",
       "      <td>No</td>\n",
       "      <td>Never</td>\n",
       "      <td>100-500</td>\n",
       "      <td>...</td>\n",
       "      <td>Don't know</td>\n",
       "      <td>No</td>\n",
       "      <td>No</td>\n",
       "      <td>Some of them</td>\n",
       "      <td>Yes</td>\n",
       "      <td>Yes</td>\n",
       "      <td>Yes</td>\n",
       "      <td>Don't know</td>\n",
       "      <td>No</td>\n",
       "      <td>NaN</td>\n",
       "    </tr>\n",
       "  </tbody>\n",
       "</table>\n",
       "<p>5 rows × 27 columns</p>\n",
       "</div>"
      ],
      "text/plain": [
       "             Timestamp  Age  Gender         Country state self_employed  \\\n",
       "0  2014-08-27 11:29:31   37  Female   United States    IL           NaN   \n",
       "1  2014-08-27 11:29:37   44       M   United States    IN           NaN   \n",
       "2  2014-08-27 11:29:44   32    Male          Canada   NaN           NaN   \n",
       "3  2014-08-27 11:29:46   31    Male  United Kingdom   NaN           NaN   \n",
       "4  2014-08-27 11:30:22   31    Male   United States    TX           NaN   \n",
       "\n",
       "  family_history treatment work_interfere    no_employees  ...  \\\n",
       "0             No       Yes          Often            6-25  ...   \n",
       "1             No        No         Rarely  More than 1000  ...   \n",
       "2             No        No         Rarely            6-25  ...   \n",
       "3            Yes       Yes          Often          26-100  ...   \n",
       "4             No        No          Never         100-500  ...   \n",
       "\n",
       "                leave mental_health_consequence phys_health_consequence  \\\n",
       "0       Somewhat easy                        No                      No   \n",
       "1          Don't know                     Maybe                      No   \n",
       "2  Somewhat difficult                        No                      No   \n",
       "3  Somewhat difficult                       Yes                     Yes   \n",
       "4          Don't know                        No                      No   \n",
       "\n",
       "      coworkers supervisor mental_health_interview phys_health_interview  \\\n",
       "0  Some of them        Yes                      No                 Maybe   \n",
       "1            No         No                      No                    No   \n",
       "2           Yes        Yes                     Yes                   Yes   \n",
       "3  Some of them         No                   Maybe                 Maybe   \n",
       "4  Some of them        Yes                     Yes                   Yes   \n",
       "\n",
       "  mental_vs_physical obs_consequence comments  \n",
       "0                Yes              No      NaN  \n",
       "1         Don't know              No      NaN  \n",
       "2                 No              No      NaN  \n",
       "3                 No             Yes      NaN  \n",
       "4         Don't know              No      NaN  \n",
       "\n",
       "[5 rows x 27 columns]"
      ]
     },
     "execution_count": 180,
     "metadata": {},
     "output_type": "execute_result"
    }
   ],
   "source": [
    "import pandas as pd\n",
    "import numpy as np\n",
    "import os\n",
    "\n",
    "os.chdir('/home/643aa895-acfe-4a55-9f84-aff3b9a97360/HealthStudy')\n",
    "\n",
    "surveyData = pd.read_csv('HealthSurvey.csv')\n",
    "    #This data came from: https://www.kaggle.com/datasets/osmi/mental-health-in-tech-survey/\n",
    "\n",
    "surveyData.head(5)\n",
    "\n"
   ]
  },
  {
   "cell_type": "code",
   "execution_count": 194,
   "id": "c1b230e4-7a45-4aab-b6b0-9969fb907b12",
   "metadata": {},
   "outputs": [
    {
     "name": "stdout",
     "output_type": "stream",
     "text": [
      "In this study, participants averaged 79428148 years old, with a range of -1726 to 99999999999 years old\n"
     ]
    }
   ],
   "source": [
    "# First, let's describe some of the data to get a feel for it\n",
    "\n",
    "minAge = surveyData.Age.min()\n",
    "maxAge = surveyData.Age.max()\n",
    "avgAge = int(surveyData.Age.mean())\n",
    "\n",
    "print(f'In this study, participants averaged {avgAge} years old, with a range of {minAge} to {maxAge} years old')"
   ]
  },
  {
   "cell_type": "markdown",
   "id": "c7a1092b-f981-4848-87e0-341bca87ec79",
   "metadata": {},
   "source": [
    "There are definitely some issues with the data. For age, I'm going to set any age above 120 or below 18 to 'NaN'"
   ]
  },
  {
   "cell_type": "code",
   "execution_count": 198,
   "id": "d14b7316-f6c8-4dc6-a88a-d08dadfab3e2",
   "metadata": {},
   "outputs": [],
   "source": [
    "surveyData.Age = np.where((surveyData.Age > 120) | (surveyData.Age < 18), np.nan, surveyData.Age)\n",
    "        # np.where(condition, x, y): This function is used to replace values where the condition is True with x and where the condition is False with y.\n"
   ]
  },
  {
   "cell_type": "code",
   "execution_count": 200,
   "id": "0d3f20de-d9ae-4b33-8e77-6f7a31cb3517",
   "metadata": {},
   "outputs": [
    {
     "name": "stdout",
     "output_type": "stream",
     "text": [
      "In this study, participants averaged 32 years old, with a range of 18.0 to 72.0 years old\n"
     ]
    }
   ],
   "source": [
    "# Print average, max, and min age\n",
    "\n",
    "minAge = surveyData.Age.min()\n",
    "maxAge = surveyData.Age.max()\n",
    "avgAge = int(surveyData.Age.mean())\n",
    "\n",
    "print(f'In this study, participants averaged {avgAge} years old, with a range of {minAge} to {maxAge} years old')\n",
    "\n"
   ]
  },
  {
   "cell_type": "code",
   "execution_count": 140,
   "id": "f6cd9980-fc60-48ff-9067-858bee3d7b5e",
   "metadata": {},
   "outputs": [],
   "source": [
    "# Initial look at gender data\n",
    "\n",
    "# surveyData.Gender.head(50)\n",
    "# surveyData.Gender.describe()\n",
    "# surveyData.Gender.unique()\n",
    "\n",
    "# It looks like lots of variation due to typing input\n",
    "    # I want to make male, Male, Cis Male, M, etc all say \"Male,\" and same for female\n",
    "    # The code below should group most of the \"male\" and \"female\" entries together, although it doesn't get all\n",
    "\n",
    "surveyData.Gender = np.where((surveyData.Gender == 'male') | (surveyData.Gender == 'M') | (surveyData.Gender == 'Cis Male') | (surveyData.Gender == 'm'), 'Male', surveyData.Gender)\n",
    "surveyData.Gender = np.where((surveyData.Gender == 'female') | (surveyData.Gender == 'F') | (surveyData.Gender == 'Cis Female') | (surveyData.Gender == 'f'), 'Female', surveyData.Gender)"
   ]
  },
  {
   "cell_type": "code",
   "execution_count": 165,
   "id": "85a726de-7da2-4d08-b3c6-3f068671a478",
   "metadata": {},
   "outputs": [
    {
     "name": "stdout",
     "output_type": "stream",
     "text": [
      "Study includes 973 males, 237 females, and 49 other\n"
     ]
    }
   ],
   "source": [
    "# Calculate and print the number of male, female, and other genders within the study\n",
    "\n",
    "uniqueGenders = surveyData.Gender.value_counts()\n",
    "# print(uniqueGenders)\n",
    "maleCount = uniqueGenders.Male\n",
    "femaleCount = uniqueGenders.Female\n",
    "otherCount = sum(uniqueGenders) - maleCount - femaleCount\n",
    "print(f\"Study includes {maleCount} males, {femaleCount} females, and {otherCount} other\")\n"
   ]
  },
  {
   "cell_type": "code",
   "execution_count": 209,
   "id": "360c6931-cc59-4930-b36e-9f3204e8ef5e",
   "metadata": {},
   "outputs": [],
   "source": [
    "# Mental Health Evaluation\n",
    "# The most important metric for mental health evaluation is probably the \"Treatment\" data:\n",
    "        # treatment: Have you sought treatment for a mental health condition?\n",
    "    \n",
    "# surveyData.treatment.head()\n",
    "# surveyData.treatment.unique()\n",
    "\n",
    "# This data must have come from a yes/no checkbox, so the data is clean with only Yes or No.\n",
    "\n"
   ]
  },
  {
   "cell_type": "code",
   "execution_count": null,
   "id": "751f828d-132c-4eb5-887d-0ed4a3fbd5fc",
   "metadata": {},
   "outputs": [],
   "source": []
  },
  {
   "cell_type": "code",
   "execution_count": null,
   "id": "113282e2-436c-4dd0-9b5d-cb48d8146d03",
   "metadata": {},
   "outputs": [],
   "source": []
  }
 ],
 "metadata": {
  "kernelspec": {
   "display_name": "anaconda-panel-2023.05-py310",
   "language": "python",
   "name": "conda-env-anaconda-panel-2023.05-py310-py"
  },
  "language_info": {
   "codemirror_mode": {
    "name": "ipython",
    "version": 3
   },
   "file_extension": ".py",
   "mimetype": "text/x-python",
   "name": "python",
   "nbconvert_exporter": "python",
   "pygments_lexer": "ipython3",
   "version": "3.11.5"
  }
 },
 "nbformat": 4,
 "nbformat_minor": 5
}
